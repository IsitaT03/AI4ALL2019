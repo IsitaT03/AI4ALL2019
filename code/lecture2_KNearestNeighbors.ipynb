{
 "cells": [
  {
   "cell_type": "markdown",
   "metadata": {},
   "source": [
    "# K-Nearest Neighbors Classifier"
   ]
  },
  {
   "cell_type": "code",
   "execution_count": 5,
   "metadata": {},
   "outputs": [
    {
     "name": "stdout",
     "output_type": "stream",
     "text": [
      "The autoreload extension is already loaded. To reload it, use:\n",
      "  %reload_ext autoreload\n"
     ]
    }
   ],
   "source": [
    "# magic! (don't worry about this)\n",
    "%load_ext autoreload\n",
    "%autoreload 2"
   ]
  },
  {
   "cell_type": "code",
   "execution_count": 6,
   "metadata": {},
   "outputs": [],
   "source": [
    "# let us import some useful things\n",
    "from lib import *\n",
    "import numpy as np\n",
    "from classifiers import *\n",
    "import math"
   ]
  },
  {
   "cell_type": "code",
   "execution_count": 7,
   "metadata": {},
   "outputs": [],
   "source": [
    "# load the data the same way as before.\n",
    "microarray_file_name = '../data/leukemia_ALL_AML_matrix.txt'\n",
    "labels_file_name = '../data/leukemia_ALL_AML_labels.txt'\n",
    "data_store = DataSet(microarray_file_name, labels_file_name)"
   ]
  },
  {
   "cell_type": "markdown",
   "metadata": {},
   "source": [
    "## Defining the Classifier\n",
    "\n",
    "Here, we declare the KNN object and call the **knn.train()** function on our training dataset. Then, we classify the examples using **knn.classify()**."
   ]
  },
  {
   "cell_type": "code",
   "execution_count": 8,
   "metadata": {},
   "outputs": [
    {
     "name": "stdout",
     "output_type": "stream",
     "text": [
      "Accuracy: 84.00%\n"
     ]
    }
   ],
   "source": [
    "# instantiate the kNN classifier\n",
    "k = 3\n",
    "knn = KNearestNeighbors() # This object type is currently declared in classifiers.py\n",
    "knn.train(data_store.get_train_set()) # provide training samples\n",
    "classified_samples = knn.classify(data_store.get_test_set(), k, euclidean_distance)\n",
    "\n",
    "# let's evaluate how well the classifier worked\n",
    "evaluate_results(classified_samples)"
   ]
  },
  {
   "cell_type": "code",
   "execution_count": 10,
   "metadata": {},
   "outputs": [],
   "source": [
    "# TODO: modify the code above to evaluate the classifier with different values of k (1 to 10).\n",
    "# Print the different accuracy values you get for each value of k. "
   ]
  },
  {
   "cell_type": "markdown",
   "metadata": {},
   "source": [
    "## Computing the Distance Function\n",
    "Next, we'll take a look at how we're computing distance. \n",
    "\n",
    "Above, in the line:\n",
    "\n",
    "**classified_samples = knn.classify(data_store.get_test_set(), k, euclidean_distance)**\n",
    "\n",
    "**euclidian_distance** is actually a function. We're going to try to implement it ourselves!\n",
    "\n",
    "First, let's take a look at the functions math.sqrt(number) and pow(number, power). Try finding the square root of some of your favorite numbers.\n"
   ]
  },
  {
   "cell_type": "code",
   "execution_count": 11,
   "metadata": {},
   "outputs": [],
   "source": [
    "# TODO: find the square root of some number. Then, take that number and raise it to the power of 2, then 4. \n",
    "# Print these out. \n",
    "\n"
   ]
  },
  {
   "cell_type": "code",
   "execution_count": 14,
   "metadata": {},
   "outputs": [
    {
     "name": "stdout",
     "output_type": "stream",
     "text": [
      "0.0\n",
      "14.0\n",
      "3.0\n",
      "41.0\n"
     ]
    }
   ],
   "source": [
    "# Next, we'll take a look at how we accumulate numbers. If I have a list of numbers like [1, 2, 3]\n",
    "# and I want to know the sum of their square roots, I'm going to need to loop through them and gather the total.\n",
    "# Let's implement a function that does this called sum_sqrts that takes a list parameter.\n",
    "\n",
    "def sum_sqrts(my_list):\n",
    "    total = 0.0\n",
    "    # This is where your code goes!\n",
    "    # store the summed square roots in the variable total\n",
    "    # (start with a for loop!)\n",
    "    \n",
    "    \n",
    "    return total\n",
    "\n",
    "\n",
    "print(sum_sqrts([]))  # should print \"0.0\"\n",
    "print(sum_sqrts([1, 4, 9]))  # should print \"6.0\"\n",
    "print(sum_sqrts([1, 1, 1]))  # should print \"3.0\"\n",
    "print(sum_sqrts([9, 25, 3, 4]))  # should print \"11.7320508076\""
   ]
  },
  {
   "cell_type": "markdown",
   "metadata": {},
   "source": [
    "## L2 (Euclidean) Distance\n",
    "\n",
    "Okay! Now we're ready for a real, full blown eauclidean distance function.\n",
    "this function will take two lists of equal length and return the euclidean distance between them. Recall that the formula for calculating Euclidean distance is as follows:\n",
    "\n",
    "<img src=\"https://wikimedia.org/api/rest_v1/media/math/render/svg/795b967db2917cdde7c2da2d1ee327eb673276c0\" alt=\"Drawing\" style=\"width: 400px;\"/>\n",
    "\n",
    "Where **p and q** are lists of numbers (really, vectors) that are equal length."
   ]
  },
  {
   "cell_type": "code",
   "execution_count": 16,
   "metadata": {},
   "outputs": [
    {
     "name": "stdout",
     "output_type": "stream",
     "text": [
      "1.0\n",
      "1.4142135623730951\n",
      "14.491376746189438\n"
     ]
    }
   ],
   "source": [
    "def my_euclidean_distance(sample_profile1, sample_profile2):\n",
    "    distance = 0.0\n",
    "    # This is where your code goes!\n",
    "    # you should loop through the indexes of the lists\n",
    "    # and gather the distance\n",
    "    \n",
    "    # don't forget to take the square root at the end!\n",
    "    \n",
    "    return distance\n",
    "\n",
    "print(my_euclidean_distance([1], [2]))  # should print \"1.0\"\n",
    "print(my_euclidean_distance([1, 1], [2, 2]))  # should print \"1.41421356237\"\n",
    "print(my_euclidean_distance([0, 1, 2], [5, -7, 13]))  # should print \"14.4913767462\""
   ]
  },
  {
   "cell_type": "code",
   "execution_count": 17,
   "metadata": {},
   "outputs": [
    {
     "name": "stdout",
     "output_type": "stream",
     "text": [
      "Accuracy: 84.00%\n"
     ]
    }
   ],
   "source": [
    "# now let's test out your distance function in the real-live classifier!\n",
    "classified_samples = knn.classify(data_store.get_test_set(), k, my_euclidean_distance)\n",
    "\n",
    "# let's evaluate how well the classifier worked\n",
    "evaluate_results(classified_samples)  # the results here should be the same as the results from the top of the page"
   ]
  },
  {
   "cell_type": "markdown",
   "metadata": {},
   "source": [
    "## L1 (Manhattan) Distance\n",
    "\n",
    "What if we use some other definition of distance? Define the **my_L1_distance** function below to give you the\n",
    "absolute value distance between two points.\n",
    "\n",
    "Recall that the formula for calculating Euclidean distance is as follows:\n",
    "\n",
    "<img src=\"https://wikimedia.org/api/rest_v1/media/math/render/svg/02436c34fc9562eb170e2e2cfddbb3303075b28e\" alt=\"Drawing\" style=\"width: 400px;\"/>\n",
    "\n",
    "\n",
    "\n"
   ]
  },
  {
   "cell_type": "code",
   "execution_count": null,
   "metadata": {
    "collapsed": true
   },
   "outputs": [],
   "source": [
    "def my_L1_distance(sample_profile1, sample_profile2):\n",
    "    distance = 0.0\n",
    "    # This is where your code goes!\n",
    "    \n",
    "    return distance\n",
    "\n",
    "print my_L1_distance([1], [2])  # should print \"1.0\"\n",
    "print my_L1_distance([1, 1], [2, 2])  # should print \"2\"\n",
    "print my_L1_distance([0, 1, 2], [5, -7, 13])  # should print \"24\""
   ]
  },
  {
   "cell_type": "markdown",
   "metadata": {},
   "source": [
    "## Defining our own KNN Classifier!\n",
    "\n",
    "Now that we've played around a bit with an already-implemented KNN classifier, let's finish writing our own in the classifiers_skeleton.py file."
   ]
  },
  {
   "cell_type": "code",
   "execution_count": 8,
   "metadata": {
    "collapsed": true
   },
   "outputs": [],
   "source": [
    "# TODO: change the import statement in the second cell of this iPython Notebook from\n",
    "# \"from classifiers import *\" to \"from classifiers_skeleton import *\"\n",
    " \n",
    "# TODO: take a look at the evaluate_results function (this is implemented for you)\n",
    "# Can you figure out what is the type of the input argument classified_samples?\n",
    "# What happens in the first line of this function? How about the third line?\n",
    "# What happens when you run the skeleton code? What is the accuracy of this partially-implemented classifier? why? \n",
    "\n",
    "# TODO: fill in each TODO section in the file!\n",
    "\n"
   ]
  },
  {
   "cell_type": "markdown",
   "metadata": {},
   "source": [
    "Congratulations, you have now implemented a kNN classifier! Test it out by rerunning the boxes\n",
    "at the top of the file! This line will now use your KNearestNeighbors object:\n",
    "\n",
    "**knn = KNearestNeighbors()**"
   ]
  },
  {
   "cell_type": "code",
   "execution_count": null,
   "metadata": {},
   "outputs": [],
   "source": []
  }
 ],
 "metadata": {
  "kernelspec": {
   "display_name": "Python 3",
   "language": "python",
   "name": "python3"
  },
  "language_info": {
   "codemirror_mode": {
    "name": "ipython",
    "version": 3
   },
   "file_extension": ".py",
   "mimetype": "text/x-python",
   "name": "python",
   "nbconvert_exporter": "python",
   "pygments_lexer": "ipython3",
   "version": "3.6.5"
  }
 },
 "nbformat": 4,
 "nbformat_minor": 1
}
