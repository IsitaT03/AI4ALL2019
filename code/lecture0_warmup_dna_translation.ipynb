{
 "cells": [
  {
   "cell_type": "markdown",
   "metadata": {},
   "source": [
    "Here we aim to translate a piece of DNA into RNA and then into protein"
   ]
  },
  {
   "cell_type": "code",
   "execution_count": 25,
   "metadata": {},
   "outputs": [],
   "source": [
    "class DNA:\n",
    "    def __init__(self, dna_seq):\n",
    "        #write a checking step that checkes if the dna_seq is of \"ATCG\"\n",
    "        self.dna = dna_seq\n",
    "    \n",
    "    def __str__(self):\n",
    "        return(self.dna)\n",
    "    \n",
    "    def get_rna(self):\n",
    "        transcription_dict = {\n",
    "            \"A\": \"U\", #there is no T in RNA, but U\n",
    "            \"T\": \"A\",\n",
    "            \"C\": \"G\",\n",
    "            \"G\": \"C\"\n",
    "        }\n",
    "        return(''.join([transcription_dict[nuc] for nuc in self.dna]))"
   ]
  },
  {
   "cell_type": "code",
   "execution_count": 27,
   "metadata": {},
   "outputs": [
    {
     "name": "stdout",
     "output_type": "stream",
     "text": [
      "UAGCAAA\n",
      "ATCGTTT\n",
      "ATCGTTTX\n"
     ]
    }
   ],
   "source": [
    "my_dna = DNA(\"ATCGTTT\")\n",
    "print(my_dna.get_rna())\n",
    "print(my_dna)\n",
    "my_dna = DNA(\"ATCGTTTX\")\n",
    "print(my_dna)"
   ]
  },
  {
   "cell_type": "code",
   "execution_count": null,
   "metadata": {},
   "outputs": [],
   "source": [
    "class DNA:\n",
    "    def __init__(self, dna_seq):\n",
    "        #write a checking step that checkes if the dna_seq is of \"ATCG\"\n",
    "        self.dna = dna_seq\n",
    "    def get_rna(self):\n",
    "        transcription_dict = {\n",
    "            \"A\": \"U\", #there is no T in RNA, but U\n",
    "            \"T\": \"A\",\n",
    "            \"C\": \"G\",\n",
    "            \"G\": \"C\"\n",
    "        }\n",
    "        return(''.join([transcription_dict[nuc] for nuc in self.dna]))\n",
    "    def get_protein(self):\n",
    "        codons = { \n",
    "            'ATA':'I', 'ATC':'I', 'ATT':'I', 'ATG':'M', \n",
    "            'ACA':'T', 'ACC':'T', 'ACG':'T', 'ACT':'T', \n",
    "            'AAC':'N', 'AAT':'N', 'AAA':'K', 'AAG':'K', \n",
    "            'AGC':'S', 'AGT':'S', 'AGA':'R', 'AGG':'R',                  \n",
    "            'CTA':'L', 'CTC':'L', 'CTG':'L', 'CTT':'L', \n",
    "            'CCA':'P', 'CCC':'P', 'CCG':'P', 'CCT':'P', \n",
    "            'CAC':'H', 'CAT':'H', 'CAA':'Q', 'CAG':'Q', \n",
    "            'CGA':'R', 'CGC':'R', 'CGG':'R', 'CGT':'R', \n",
    "            'GTA':'V', 'GTC':'V', 'GTG':'V', 'GTT':'V', \n",
    "            'GCA':'A', 'GCC':'A', 'GCG':'A', 'GCT':'A', \n",
    "            'GAC':'D', 'GAT':'D', 'GAA':'E', 'GAG':'E', \n",
    "            'GGA':'G', 'GGC':'G', 'GGG':'G', 'GGT':'G', \n",
    "            'TCA':'S', 'TCC':'S', 'TCG':'S', 'TCT':'S', \n",
    "            'TTC':'F', 'TTT':'F', 'TTA':'L', 'TTG':'L', \n",
    "            'TAC':'Y', 'TAT':'Y', 'TAA':'_', 'TAG':'_', \n",
    "            'TGC':'C', 'TGT':'C', 'TGA':'_', 'TGG':'W', \n",
    "        }\n",
    "        #write your code here\n",
    "        \n",
    "        \n",
    "        #additional features:\n",
    "        #1) start only at AUG (starter condon)\n",
    "        #2) ends at TAA/TGA/TAG(stop condon), report errors when not found (stop-loss)\n"
   ]
  }
 ],
 "metadata": {
  "kernelspec": {
   "display_name": "Python 3",
   "language": "python",
   "name": "python3"
  },
  "language_info": {
   "codemirror_mode": {
    "name": "ipython",
    "version": 3
   },
   "file_extension": ".py",
   "mimetype": "text/x-python",
   "name": "python",
   "nbconvert_exporter": "python",
   "pygments_lexer": "ipython3",
   "version": "3.6.5"
  }
 },
 "nbformat": 4,
 "nbformat_minor": 2
}
