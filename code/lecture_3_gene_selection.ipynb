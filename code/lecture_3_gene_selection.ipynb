{
 "cells": [
  {
   "cell_type": "code",
   "execution_count": 6,
   "metadata": {},
   "outputs": [
    {
     "name": "stdout",
     "output_type": "stream",
     "text": [
      "The autoreload extension is already loaded. To reload it, use:\n",
      "  %reload_ext autoreload\n"
     ]
    }
   ],
   "source": [
    "# magic! (don't worry about this)\n",
    "%load_ext autoreload\n",
    "%autoreload 2"
   ]
  },
  {
   "cell_type": "code",
   "execution_count": 7,
   "metadata": {},
   "outputs": [],
   "source": [
    "# let us import some useful things\n",
    "from lib import *\n",
    "from classifiers import *\n",
    "import math\n",
    "from scipy.stats import ttest_ind\n",
    "from scipy.special import stdtr\n",
    "import numpy as np"
   ]
  },
  {
   "cell_type": "code",
   "execution_count": 8,
   "metadata": {},
   "outputs": [],
   "source": [
    "# load the data same as before\n",
    "microarray_file_name = '../data/leukemia_ALL_AML_matrix.txt'\n",
    "labels_file_name = '../data/leukemia_ALL_AML_labels.txt'\n",
    "data_store = DataSet(microarray_file_name, labels_file_name)"
   ]
  },
  {
   "cell_type": "code",
   "execution_count": 9,
   "metadata": {},
   "outputs": [
    {
     "name": "stdout",
     "output_type": "stream",
     "text": [
      "Number of informative genes: 1234\n"
     ]
    }
   ],
   "source": [
    "train_data_set = data_store.get_train_set() \n",
    "\n",
    "# separate samples based on label\n",
    "ALL_gene_profiles_list = [s.get_gene_profile() for s in train_data_set if s.get_label() == 1]\n",
    "AML_gene_profiles_list = [s.get_gene_profile() for s in train_data_set if s.get_label() == 0]\n",
    "\n",
    "\n",
    "# let's select our most useful genes based on the Welch's t-test!\n",
    "init_number_of_genes = len(train_data_set[0].get_gene_profile())\n",
    "selected_genes = []\n",
    "for gene_id in range(init_number_of_genes):\n",
    "    gene_values_ALL_samples = [profile[gene_id] for profile in ALL_gene_profiles_list]\n",
    "    gene_values_AML_samples = [profile[gene_id] for profile in AML_gene_profiles_list]\n",
    "    \n",
    "    # TODO: use the formulas we've seen to compute the t-test value and the degree of freedom for the ALL and AML vector\n",
    "    # hint: to compute the mean and variance of each list -- use the np functions mean() and var()!\n",
    "    \n",
    "    t_test_val = 0 # TODO: change this line!\n",
    "    degree_of_freedom = 0 # TODO: change this line!\n",
    "\n",
    "    # now we can use an existing funtion to find the p-value (don't worry about this!)\n",
    "    # it is same as looking-up the t-test table!\n",
    "    #p_value = 2*stdtr(degree_of_freedom, -np.abs(t_test_val))\n",
    "    p_value = ttest_ind(gene_values_ALL_samples, gene_values_AML_samples)[1]\n",
    "    \n",
    "    if(p_value < 0.05):\n",
    "        selected_genes.append(gene_id)\n",
    "\n",
    "print ('Number of informative genes: ' + str(len(selected_genes)))\n",
    "\n",
    "# now let's update our dataset to ignore the genes that are not informative\n",
    "filtered_train_samples = []\n",
    "filtered_test_samples = []\n",
    "full_data_set = data_store.get_train_set() + data_store.get_test_set()\n",
    "for sample in data_store.get_train_set():\n",
    "    new_sample = Sample(sample.get_label(), [sample.get_gene_profile()[i] for i in range(init_number_of_genes) if i in selected_genes])\n",
    "    filtered_train_samples.append(new_sample)\n",
    "for sample in data_store.get_test_set():\n",
    "    new_sample = Sample(sample.get_label(), [sample.get_gene_profile()[i] for i in range(init_number_of_genes) if i in selected_genes])\n",
    "    filtered_test_samples.append(new_sample)  \n",
    "\n"
   ]
  },
  {
   "cell_type": "markdown",
   "metadata": {},
   "source": [
    "Do you think we can change the p_value cut_off a bit?"
   ]
  },
  {
   "cell_type": "code",
   "execution_count": 12,
   "metadata": {},
   "outputs": [
    {
     "name": "stdout",
     "output_type": "stream",
     "text": [
      "[0 0 1 0 0 0 0 1 0 1 0 0 1 0 1 0 0 0 1 0 1 0 1 0 0]\n",
      "Accuracy: 96.00%\n"
     ]
    }
   ],
   "source": [
    "# we will do a simple Logistic regression here\n",
    "from sklearn.linear_model import LogisticRegression\n",
    "train_set = data_store.get_train_set()\n",
    "test_set = data_store.get_test_set()\n",
    "train_profile = [x.get_gene_profile() for x in train_set]\n",
    "train_labels = [x.get_label() for x in train_set]\n",
    "\n",
    "clf = LogisticRegression().fit(train_profile, train_labels)\n",
    "#now we predict\n",
    "test_profile = [x.get_gene_profile() for x in test_set]\n",
    "test_labels = [x.get_gene_profile() for x in test_set]\n",
    "pred = clf.predict(test_profile)\n",
    "print(pred)\n",
    "evaluate_results(list(zip(test_set, pred)))\n",
    "\n",
    "#clf_filtered = LogisticRegression().fit(filtered_test_samples, y)"
   ]
  },
  {
   "cell_type": "code",
   "execution_count": null,
   "metadata": {},
   "outputs": [],
   "source": [
    "#TODO: try knn using the filtered genes again, any change in accuracy?"
   ]
  }
 ],
 "metadata": {
  "kernelspec": {
   "display_name": "Python 3",
   "language": "python",
   "name": "python3"
  },
  "language_info": {
   "codemirror_mode": {
    "name": "ipython",
    "version": 3
   },
   "file_extension": ".py",
   "mimetype": "text/x-python",
   "name": "python",
   "nbconvert_exporter": "python",
   "pygments_lexer": "ipython3",
   "version": "3.6.5"
  }
 },
 "nbformat": 4,
 "nbformat_minor": 2
}
