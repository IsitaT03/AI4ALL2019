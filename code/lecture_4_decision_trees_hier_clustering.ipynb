{
 "cells": [
  {
   "cell_type": "code",
   "execution_count": null,
   "metadata": {},
   "outputs": [],
   "source": [
    "# magic! (don't worry about this)\n",
    "%load_ext autoreload\n",
    "%autoreload 2\n",
    "#%matplotlib inline"
   ]
  },
  {
   "cell_type": "code",
   "execution_count": null,
   "metadata": {},
   "outputs": [],
   "source": [
    "# let us import some useful things\n",
    "from lib import *\n",
    "from classifiers import *\n",
    "from numpy import mean\n",
    "#from graphs import *\n",
    "from sklearn import tree\n",
    "import numpy as np\n",
    "%matplotlib inline\n",
    "from matplotlib import pyplot as plt\n",
    "from collections import Counter\n",
    "import math\n"
   ]
  },
  {
   "cell_type": "markdown",
   "metadata": {},
   "source": [
    "Sally sends you a picture of a dress that she has just found. Excited, you text back \"Did you buy it?\" and she asks you to guess whether she bought the dress or not. You know Sally very well, What is your thought process on whether Sally bought the dress or not? \n",
    "\n",
    "Draw up this process.\n",
    "\n",
    "Lets run an example through this: "
   ]
  },
  {
   "cell_type": "markdown",
   "metadata": {},
   "source": [
    "## What is a tree? "
   ]
  },
  {
   "cell_type": "markdown",
   "metadata": {},
   "source": [
    "How to make a tree (hand-wavy algorithm):\n",
    "    1. Find the best feature to divide on (this is the hard part)\n",
    "    2. Divide on x_p and assign training samples to each leaf. \n",
    "    3. If the leaf is \"pure\" stop. Otherwise iterate over\n"
   ]
  },
  {
   "cell_type": "markdown",
   "metadata": {},
   "source": [
    "### How to choose this x_p\n",
    "\n",
    "#### What type of variables we have\n",
    "    1. Continuous \n",
    "    2. Ordinary\n",
    "    3. Nominal\n",
    "    \n",
    "Can you give some examples of each variable types?\n",
    "\n",
    "\n"
   ]
  },
  {
   "cell_type": "markdown",
   "metadata": {},
   "source": [
    "### Entropy\n",
    "$S = - \\sum_i \\log(p_i) p_i$\n",
    "\n",
    "Maximized at $p_i = \\frac{1}{n_c}$"
   ]
  },
  {
   "cell_type": "code",
   "execution_count": null,
   "metadata": {
    "scrolled": true
   },
   "outputs": [],
   "source": [
    "p = np.linspace(0.001,1,500)\n",
    "y = - np.log(p)*p\n",
    "plt.plot(p,y)\n",
    "plt.show()"
   ]
  },
  {
   "cell_type": "markdown",
   "metadata": {},
   "source": [
    "### Gini index\n",
    "\n",
    "![:(](https://nicfoley.files.wordpress.com/2013/07/genie.jpg)"
   ]
  },
  {
   "cell_type": "markdown",
   "metadata": {},
   "source": [
    "$I = \\sum_i p_i (1-p_i)$\n",
    "\n",
    "This is maximized at $p_i = \\frac{1}{n_c}$ where $n_c$ is the number of classes  "
   ]
  },
  {
   "cell_type": "code",
   "execution_count": null,
   "metadata": {
    "scrolled": false
   },
   "outputs": [],
   "source": [
    "p = np.linspace(0,1,500)\n",
    "y = (1-p)*p\n",
    "plt.plot(p,y)\n",
    "plt.show()"
   ]
  },
  {
   "cell_type": "markdown",
   "metadata": {
    "collapsed": true
   },
   "source": [
    "The cost after splitting is the weighted cost of each node. \n",
    "\n",
    "The idea for choosing the branch to split on is to split on the attribute witht he biggest improvment in purity. This is a greedy way to build the tree (Why? Can we construct an example where this greedy method doesn't work?)\n",
    "\n",
    "\n",
    "Let's go back to how to deal with different types of variables. \n",
    "\n",
    "For continous variables, and ordinal variables: we choose a particular position (any ideas how to do this for continuous variables?) For nominal variables, we have n! combinations to choose from :( (this could be prohibitively large but there are tricks to deal with it)"
   ]
  },
  {
   "cell_type": "markdown",
   "metadata": {},
   "source": [
    "After the tree is constructed, it will need to be pruned to prevent overfitting. "
   ]
  },
  {
   "cell_type": "markdown",
   "metadata": {},
   "source": [
    "Why trees: \n",
    "    1. They are easy to understand (interpretable)\n",
    "    2. They have ways of dealing with missing data \n",
    "    3. They are fairly good at classifying (but it can get better)\n",
    "    4. Cost of prediction is low (this is not very important for us)\n",
    "    5. Can do variable selection to some extent \n",
    "    6. Natural to use for all kinds of features "
   ]
  },
  {
   "cell_type": "code",
   "execution_count": 206,
   "metadata": {},
   "outputs": [],
   "source": [
    "# load the data same as before\n",
    "microarray_file_name = '../data/leukemia_ALL_AML_matrix.txt'\n",
    "labels_file_name = '../data/leukemia_ALL_AML_labels.txt'\n",
    "data_store = DataSet(microarray_file_name, labels_file_name)"
   ]
  },
  {
   "cell_type": "code",
   "execution_count": null,
   "metadata": {},
   "outputs": [],
   "source": [
    "# This train function is *almost* the same as the train method that \n",
    "# your knn classifier. The difference is that this is a function that\n",
    "# takes as one of the parameters the decision tree, so it will be called\n",
    "# like: train(decision_tree, train_samples)\n",
    "\n",
    "def train(classifier, train_samples):\n",
    "    feature_array = [sample.get_gene_profile() for sample in train_samples]\n",
    "    labels = [sample.get_label() for sample in train_samples]\n",
    "    classifier.fit(feature_array, labels)\n",
    "\n",
    "def classify(classifier, test_samples):\n",
    "    labelled_samples = []\n",
    "    feature_array = [sample.get_gene_profile() for sample in test_samples]\n",
    "    results = classifier.predict(feature_array)\n",
    "    labelled_samples = [(test_samples[i], results[i]) for i in range(len(test_samples))]\n",
    "    return labelled_samples\n"
   ]
  },
  {
   "cell_type": "code",
   "execution_count": null,
   "metadata": {},
   "outputs": [],
   "source": [
    "# Here, you can set criterion = \"entropy\" or \"gini\", which will determine\n",
    "# what equation the decision tree will use to measure the quality of a split\n",
    "#\n",
    "# You can set max_features=None, \"sqrt\", or \"log2\", which will determine how many\n",
    "# features the decision tree will use. Setting it to None will use all the features,\n",
    "# sqrt will use sqrt(number of features) and log2 will use log2(number of features)\n",
    "#\n",
    "# Play around! What settings are best? Do they change for the different data sets?\n",
    "decision_tree = tree.DecisionTreeClassifier(criterion=\"entropy\", max_features=None)\n",
    "train(decision_tree, data_store.get_train_set())\n",
    "\n",
    "classified_samples = classify(decision_tree, data_store.get_test_set())\n",
    "# let's evaluate how well the classifier worked\n",
    "evaluate_results(classified_samples)\n",
    "#compare this final answer with your neighbor. did you get the same answer? "
   ]
  },
  {
   "cell_type": "code",
   "execution_count": null,
   "metadata": {},
   "outputs": [],
   "source": [
    "#plot_errors(classified_samples)"
   ]
  },
  {
   "cell_type": "code",
   "execution_count": null,
   "metadata": {},
   "outputs": [],
   "source": [
    "def bootstrap(data):\n",
    "    N = len(data)\n",
    "    sample = np.random.choice(N, N)\n",
    "    return [data[i] for i in sample]\n",
    "\n",
    "def bagTrain(ntrees):\n",
    "    myTrees = []\n",
    "    for i in range(ntrees):\n",
    "        decision_tree = tree.DecisionTreeClassifier(criterion=\"entropy\", max_features=None)\n",
    "        train(decision_tree, bootstrap(data_store.get_train_set()))\n",
    "        classified_samples = classify(decision_tree, data_store.get_test_set())\n",
    "        print(\"Tree \" + str(i)) \n",
    "        evaluate_results(classified_samples)\n",
    "        myTrees.append(decision_tree)\n",
    "    return myTrees\n",
    "\n",
    "def bagClassify(myTrees, test_samples):\n",
    "    classification = []\n",
    "    for sample in test_samples:\n",
    "        judgment = []\n",
    "        #use the trees you stored to classify and store the results in judgement\n",
    "        for tree in myTrees:\n",
    "            judgment.append(classify(tree, [sample]))\n",
    "        judgment = [item[0][1] for item in judgment]\n",
    "        #TODO: find the most common vote (most_common_vote)? \n",
    "        #what should you do if there is tie?\n",
    "        # **your code here***\n",
    "        \n",
    "        \n",
    "        classification.append([sample, most_common_vote])\n",
    "    return classification\n",
    "    \n"
   ]
  },
  {
   "cell_type": "code",
   "execution_count": null,
   "metadata": {},
   "outputs": [],
   "source": [
    "myTrees = bagTrain(5)\n",
    "classes = bagClassify(myTrees, data_store.get_test_set())\n",
    "print(\"***Final:***\")\n",
    "evaluate_results(classes)"
   ]
  },
  {
   "cell_type": "markdown",
   "metadata": {},
   "source": [
    "Run the regular tree and the bagged tree multiple times. What do you notice? "
   ]
  },
  {
   "cell_type": "code",
   "execution_count": null,
   "metadata": {},
   "outputs": [],
   "source": [
    "# load another dataset (kidney cancer)\n",
    "# this datasets have 90 normal tissues (label: -1) and 91 cancer tissues (label: 1).\n",
    "# BIG dataset, 36864 genes are measured! \n",
    "\n",
    "microarray_file_name = '../data/Renal_cell_carcinoma_Matrix.txt'\n",
    "labels_file_name = '../data/Renal_cell_carcinoma_label-11.txt'\n",
    "data_store = DataSet(microarray_file_name, labels_file_name)\n",
    "\n",
    "\n",
    "## now play the above methods again and report the accuracy \n",
    "\n"
   ]
  },
  {
   "cell_type": "code",
   "execution_count": null,
   "metadata": {},
   "outputs": [],
   "source": [
    "# Random forrest\n",
    "from sklearn.ensemble import RandomForestClassifier\n",
    "# let's grow 1000 trees\n",
    "clf = RandomForestClassifier(n_estimators=1000)\n",
    "train(clf, data_store.get_train_set())\n",
    "classified_samples=classify(clf, data_store.get_test_set())\n",
    "evaluate_results(classified_samples)"
   ]
  },
  {
   "cell_type": "markdown",
   "metadata": {},
   "source": [
    "Lung cancer dataset: five classes (4 tumors and normalm, 2308 genes):  \n",
    "0. adenocarcinoma (AD): 139 samples  \n",
    "1. normal lung (NL): 17 samples  \n",
    "2. small cell lung cancer (SMCL): 6 samples  \n",
    "3. squamous cell carcinoma (SQ): 21 samples  \n",
    "4. pulmonary carcinoid (COID): 20 samples "
   ]
  },
  {
   "cell_type": "code",
   "execution_count": null,
   "metadata": {},
   "outputs": [],
   "source": [
    "# load the kidney dataset back again\n",
    "# this datasets have 90 normal tissues (label: -1) and 91 cancer tissues (label: 1).\n",
    "microarray_file_name = '../data/lung_normal_4tumors_matrix.txt'\n",
    "labels_file_name = '../data/lung_normal_4tumors_labels.txt'\n",
    "data_store = DataSet(microarray_file_name, labels_file_name)\n",
    "\n"
   ]
  },
  {
   "cell_type": "code",
   "execution_count": 366,
   "metadata": {},
   "outputs": [],
   "source": [
    "## now we are going to do hierarchical clustering\n",
    "\n",
    "def hier_cluster_single(data_list, distance_metric, step = 1, method = \"average\"):\n",
    "    # at the beginning, every sample is of its own cluster\n",
    "    clusters = [[x] for x in data_list]\n",
    "    \n",
    "    # distances is a list of tuples\n",
    "    # tuples has the format of (distance, (sample_1, sample_2))\n",
    "    distances = []\n",
    "    \n",
    "    \n",
    "    # define a new distance function\n",
    "    def min_distance(cls_a, cls_b, distance_metric):\n",
    "        min_dist = math.inf\n",
    "        for a in cls_a:\n",
    "            for b in cls_b:\n",
    "                current_dist = distance_metric(a.get_gene_profile(),b.get_gene_profile())\n",
    "                if min_dist > current_dist:\n",
    "                    min_dist = current_dist\n",
    "        return min_dist\n",
    "    \n",
    "    def avg_distance(cls_a, cls_b, distance_metric):\n",
    "        total_dist = 0\n",
    "        count = 0\n",
    "        \n",
    "        # TODO: finish the avg_distance function here\n",
    "        # **your code here***\n",
    "                \n",
    "        return (total_dist/count)\n",
    "        \n",
    "    if method == \"average\":\n",
    "        distance_function = avg_distance\n",
    "    elif method == \"single\":\n",
    "        distance_function = min_distance\n",
    "    else:\n",
    "        print(\"unknown method\")\n",
    "        exit(1)\n",
    "    \n",
    "    \n",
    "    # now we calculate every pairwise distance\n",
    "    for i in range(len(clusters)):\n",
    "        for j in range(i+1, len(clusters)):\n",
    "            cls_a = clusters[i]\n",
    "            cls_b = clusters[j]\n",
    "            distances.append((distance_function(cls_a, cls_b, distance_metric), \\\n",
    "                              (cls_a, cls_b)))\n",
    "\n",
    "    \n",
    "    for k in range(step):\n",
    "        print(\"step: \" + str(k) + \"\\t # clusters: \" + str(len(clusters)))\n",
    "\n",
    "        # get the min distance and merge\n",
    "        distances.sort(key=lambda x: x[0])\n",
    "        to_be_merged = distances[0][1]\n",
    "        \n",
    "        # update cluster\n",
    "        clusters.remove(to_be_merged[0])\n",
    "        clusters.remove(to_be_merged[1])    \n",
    "    \n",
    "        # remove old distances \n",
    "        new_distances = distances.copy()\n",
    "        # TODO: check if the distances involves samples in to_be_merged\n",
    "        # delete all of them (in the new_distances copy, not the original one)\n",
    "        # we will add distances back later\n",
    "        # **your code here***\n",
    "        \n",
    "        \n",
    "        distances = new_distances\n",
    "\n",
    "        # add in new distances to the merged class\n",
    "        cls_b = to_be_merged[0] + to_be_merged[1]\n",
    "        \n",
    "        # TODO: now add distances between the new cluster (cls_b) and \n",
    "        # every cluster in clusters\n",
    "        # **your code here***    \n",
    "        \n",
    "        \n",
    "        \n",
    "        # update clusters\n",
    "        clusters.append(to_be_merged[0] + to_be_merged[1])\n",
    "    \n",
    "    return(clusters)\n",
    "\n",
    "    \n",
    "# get your distance functions from KNN\n",
    "def my_euclidean_distance(sample_profile1, sample_profile2):\n",
    "    distance = 0.0\n",
    "    #return distances\n",
    "    return reduce(lambda x, y: x+y, [(sample_profile1[i]- sample_profile2[i])**2 \\\n",
    "                                      for i in range(len(sample_profile1))])"
   ]
  },
  {
   "cell_type": "code",
   "execution_count": null,
   "metadata": {},
   "outputs": [],
   "source": []
  },
  {
   "cell_type": "code",
   "execution_count": 367,
   "metadata": {},
   "outputs": [
    {
     "name": "stdout",
     "output_type": "stream",
     "text": [
      "[0, 1, 2, 3, 4, 5, 6, 7, 8, 9]\n",
      "[0, 1, 2, 6, 8, 9]\n"
     ]
    }
   ],
   "source": [
    "a = list(range(10))\n",
    "print(a)\n",
    "b = [3,4,5,7]\n",
    "\n",
    "remove_idx = a.copy()\n",
    "for i in a:\n",
    "    if i in b:\n",
    "        remove_idx.remove(i)\n",
    "        \n",
    "print(remove_idx)"
   ]
  },
  {
   "cell_type": "markdown",
   "metadata": {},
   "source": [
    "Now we give it a try"
   ]
  },
  {
   "cell_type": "code",
   "execution_count": 369,
   "metadata": {
    "scrolled": true
   },
   "outputs": [
    {
     "name": "stdout",
     "output_type": "stream",
     "text": [
      "step: 0\t # clusters: 72\n",
      "step: 1\t # clusters: 71\n",
      "step: 2\t # clusters: 70\n",
      "step: 3\t # clusters: 69\n",
      "step: 4\t # clusters: 68\n",
      "step: 5\t # clusters: 67\n",
      "step: 6\t # clusters: 66\n",
      "step: 7\t # clusters: 65\n",
      "step: 8\t # clusters: 64\n",
      "step: 9\t # clusters: 63\n",
      "Cluster of length 1\n",
      "Sample with label: 1\n",
      "Cluster of length 1\n",
      "Sample with label: 1\n",
      "Cluster of length 1\n",
      "Sample with label: 0\n",
      "Cluster of length 1\n",
      "Sample with label: 0\n",
      "Cluster of length 1\n",
      "Sample with label: 1\n",
      "Cluster of length 1\n",
      "Sample with label: 0\n",
      "Cluster of length 1\n",
      "Sample with label: 1\n",
      "Cluster of length 1\n",
      "Sample with label: 0\n",
      "Cluster of length 1\n",
      "Sample with label: 1\n",
      "Cluster of length 1\n",
      "Sample with label: 0\n",
      "Cluster of length 1\n",
      "Sample with label: 1\n",
      "Cluster of length 1\n",
      "Sample with label: 0\n",
      "Cluster of length 1\n",
      "Sample with label: 0\n",
      "Cluster of length 1\n",
      "Sample with label: 0\n",
      "Cluster of length 1\n",
      "Sample with label: 0\n",
      "Cluster of length 1\n",
      "Sample with label: 1\n",
      "Cluster of length 1\n",
      "Sample with label: 0\n",
      "Cluster of length 1\n",
      "Sample with label: 1\n",
      "Cluster of length 1\n",
      "Sample with label: 0\n",
      "Cluster of length 1\n",
      "Sample with label: 0\n",
      "Cluster of length 1\n",
      "Sample with label: 1\n",
      "Cluster of length 1\n",
      "Sample with label: 1\n",
      "Cluster of length 1\n",
      "Sample with label: 0\n",
      "Cluster of length 1\n",
      "Sample with label: 1\n",
      "Cluster of length 1\n",
      "Sample with label: 0\n",
      "Cluster of length 1\n",
      "Sample with label: 0\n",
      "Cluster of length 1\n",
      "Sample with label: 0\n",
      "Cluster of length 1\n",
      "Sample with label: 1\n",
      "Cluster of length 1\n",
      "Sample with label: 0\n",
      "Cluster of length 1\n",
      "Sample with label: 1\n",
      "Cluster of length 1\n",
      "Sample with label: 0\n",
      "Cluster of length 1\n",
      "Sample with label: 1\n",
      "Cluster of length 1\n",
      "Sample with label: 0\n",
      "Cluster of length 1\n",
      "Sample with label: 1\n",
      "Cluster of length 1\n",
      "Sample with label: 1\n",
      "Cluster of length 1\n",
      "Sample with label: 1\n",
      "Cluster of length 1\n",
      "Sample with label: 1\n",
      "Cluster of length 1\n",
      "Sample with label: 0\n",
      "Cluster of length 1\n",
      "Sample with label: 0\n",
      "Cluster of length 1\n",
      "Sample with label: 0\n",
      "Cluster of length 1\n",
      "Sample with label: 1\n",
      "Cluster of length 1\n",
      "Sample with label: 0\n",
      "Cluster of length 1\n",
      "Sample with label: 1\n",
      "Cluster of length 1\n",
      "Sample with label: 0\n",
      "Cluster of length 1\n",
      "Sample with label: 0\n",
      "Cluster of length 1\n",
      "Sample with label: 1\n",
      "Cluster of length 1\n",
      "Sample with label: 0\n",
      "Cluster of length 1\n",
      "Sample with label: 1\n",
      "Cluster of length 1\n",
      "Sample with label: 0\n",
      "Cluster of length 1\n",
      "Sample with label: 0\n",
      "Cluster of length 1\n",
      "Sample with label: 1\n",
      "Cluster of length 1\n",
      "Sample with label: 0\n",
      "Cluster of length 1\n",
      "Sample with label: 1\n",
      "Cluster of length 1\n",
      "Sample with label: 1\n",
      "Cluster of length 1\n",
      "Sample with label: 0\n",
      "Cluster of length 1\n",
      "Sample with label: 0\n",
      "Cluster of length 2\n",
      "Sample with label: 0\n",
      "Sample with label: 0\n",
      "Cluster of length 2\n",
      "Sample with label: 0\n",
      "Sample with label: 0\n",
      "Cluster of length 2\n",
      "Sample with label: 0\n",
      "Sample with label: 0\n",
      "Cluster of length 3\n",
      "Sample with label: 0\n",
      "Sample with label: 0\n",
      "Sample with label: 0\n",
      "Cluster of length 2\n",
      "Sample with label: 0\n",
      "Sample with label: 0\n",
      "Cluster of length 5\n",
      "Sample with label: 0\n",
      "Sample with label: 0\n",
      "Sample with label: 0\n",
      "Sample with label: 0\n",
      "Sample with label: 0\n"
     ]
    }
   ],
   "source": [
    "# we want to aggregate all the data \n",
    "all_data = data_store.get_train_set()+data_store.get_test_set()\n",
    "\n",
    "#hier_cluster_single(all_data, my_euclidean_distance)\n",
    "\n",
    "# let's do 10 steps\n",
    "my_clusters = hier_cluster_single(all_data, my_euclidean_distance, 10)\n",
    "\n",
    "for c in my_clusters:\n",
    "    print(\"Cluster of length \" + str(len(c)))\n",
    "    for s in c:\n",
    "        print(s)"
   ]
  },
  {
   "cell_type": "code",
   "execution_count": 361,
   "metadata": {},
   "outputs": [
    {
     "data": {
      "image/png": "[encoded data removed]",
      "text/plain": [
       "<Figure size 720x720 with 5 Axes>"
      ]
     },
     "metadata": {},
     "output_type": "display_data"
    }
   ],
   "source": [
    "import seaborn as sns; sns.set()\n",
    "\n",
    "K = 50\n",
    "# we want to aggregate all the data \n",
    "all_data = data_store.get_train_set()+data_store.get_test_set()\n",
    "\n",
    "# first we exact all the gene profiles and put them in a matrix\n",
    "gene_profile = [x.get_gene_profile() for x in all_data]\n",
    "gene_profile = np.array(gene_profile)\n",
    "\n",
    "# calculate the variance of the genes and get the top K\n",
    "gene_var = [np.var(gene_profile[:,x]) for x in range(np.shape(gene_profile)[1])]\n",
    "top_k_genes = gene_profile[:,np.argsort(gene_var)[-K:]]\n",
    "\n",
    "# make a hierarchically-clustered heatmap\n",
    "# label 1 is red and other lables are green\n",
    "ax = sns.clustermap(top_k_genes, method='average',metric='euclidean',\\\n",
    "                   row_colors = ['r' if x.get_label() == 1 else 'g' for x in all_data])\n",
    "\n",
    "# try different method (\"single\", \"average\", \"complete\")\n",
    "# try different metric (\"euclidean\", \"cityblock\" (which is the L1 distance))"
   ]
  },
  {
   "cell_type": "code",
   "execution_count": null,
   "metadata": {},
   "outputs": [],
   "source": []
  }
 ],
 "metadata": {
  "kernelspec": {
   "display_name": "Python 3",
   "language": "python",
   "name": "python3"
  },
  "language_info": {
   "codemirror_mode": {
    "name": "ipython",
    "version": 3
   },
   "file_extension": ".py",
   "mimetype": "text/x-python",
   "name": "python",
   "nbconvert_exporter": "python",
   "pygments_lexer": "ipython3",
   "version": "3.6.5"
  }
 },
 "nbformat": 4,
 "nbformat_minor": 1
}
