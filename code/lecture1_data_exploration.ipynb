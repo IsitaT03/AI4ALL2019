{
 "cells": [
  {
   "cell_type": "markdown",
   "metadata": {},
   "source": [
    "# Intro: Types of data\n",
    "\n",
    "Tita, a summer high school intern at Stanford, realizes that she might be able to shorten her commute to classes by getting a bike. \n",
    "\n",
    "What are some factors that she might consider when deciding what bike to purchase?\n",
    "\n",
    "<img src=\"https://media.istockphoto.com/vectors/set-of-bicycles-in-a-flat-style-isolated-on-white-background-bike-for-vector-id962704996\" alt=\"Drawing\" style=\"width: 400px;\"/>\n",
    "\n",
    "\n"
   ]
  },
  {
   "cell_type": "markdown",
   "metadata": {},
   "source": [
    "### Answer:\n"
   ]
  },
  {
   "cell_type": "markdown",
   "metadata": {},
   "source": [
    "1. Qualitatively, is there a difference between the features you chose? What values can they take?\n",
    "\n",
    "2. We could try to predict whether Tita buys the bike, or the price that we think the bike is being sold at. What is the difference between these two predictions? \n",
    "\n",
    "3. Is there an inbetween case? \n",
    "\n",
    "4. In each case, how can we measure if we did a good job with our prediction? "
   ]
  },
  {
   "cell_type": "markdown",
   "metadata": {},
   "source": [
    "### Answer:\n"
   ]
  },
  {
   "cell_type": "markdown",
   "metadata": {},
   "source": [
    "# Initializing Biology Data"
   ]
  },
  {
   "cell_type": "markdown",
   "metadata": {},
   "source": [
    "Now that we have an idea of what types of data might exist, let's take a look at our own biology data files."
   ]
  },
  {
   "cell_type": "code",
   "execution_count": 1,
   "metadata": {},
   "outputs": [],
   "source": [
    "# Magic! (don't worry about this)\n",
    "%load_ext autoreload\n",
    "%autoreload 2"
   ]
  },
  {
   "cell_type": "code",
   "execution_count": 2,
   "metadata": {},
   "outputs": [],
   "source": [
    "# Let us use some things we implemented to conveniently work with the data. See lib.py for the source code.\n",
    "from lib import *"
   ]
  },
  {
   "cell_type": "markdown",
   "metadata": {
    "collapsed": true
   },
   "source": [
    "### Loading the data\n",
    "\n",
    "First, look inside the 'data' folder!\n",
    "Here, you'll find our data files, such as 'leukemia_ALL_AML_matrix.txt' and 'leukemia_ALL_AML_labels.txt'. These two files together comprise one of our datasets.\n",
    "\n",
    "For each dataset, we have one file that contains the microarray data (ending in 'matrix.txt') and another that contains the labels (ending in 'labels.txt'). You can read more about them in \"Dataset_descriptions.md\", which can be opened with Markdown (an application). "
   ]
  },
  {
   "cell_type": "code",
   "execution_count": 3,
   "metadata": {},
   "outputs": [],
   "source": [
    "# In lib.py we have defined a DataSet object that can be used to load the data. \n",
    "# This object stores the data so that we don't have to read the files\n",
    "# each time we want to access different parts of the data\n",
    "#\n",
    "# We have also defined the Sample object to represent each sample in our dataset.\n",
    "#\n",
    "# Now let's load a dataset and explore it! \n",
    "\n",
    "microarray_file_name = '../data/leukemia_ALL_AML_matrix.txt'\n",
    "labels_file_name = '../data/leukemia_ALL_AML_labels.txt'\n",
    "data_store = DataSet(microarray_file_name, labels_file_name)"
   ]
  },
  {
   "cell_type": "markdown",
   "metadata": {},
   "source": [
    "### Getting Train and Test sets\n",
    "\n",
    "The DataSet object has the following methods:\n",
    "\n",
    "**get_train_set()** -- returns a list of Sample objects that make up our training data\n",
    "\n",
    "**get_test_set()** -- returns a list of Sample objects that make up our testing data\n"
   ]
  },
  {
   "cell_type": "code",
   "execution_count": 4,
   "metadata": {},
   "outputs": [],
   "source": [
    "# TODO: Store the training data in a variable called \"train\", and the test data in a variable called \"test.\"\n",
    "# What fraction of data is set as training? What fraction is test? \n",
    "# What is the benefit of choosing a larger training set compared to test set? \n",
    "\n",
    "# --- your code here ---\n"
   ]
  },
  {
   "cell_type": "markdown",
   "metadata": {},
   "source": [
    "### Examining a Sample\n",
    "Let's take a look at one of our samples. We'll look in the training set (because that's good data ettiquette!) and select one **Sample** to take a look at.\n",
    "\n",
    "The **Sample** object has the following methods:\n",
    "\n",
    "**get_label()** -- returns an integer representing the class label (i.e tissue type) of this sample \n",
    "\n",
    "**get_gene_profile()** -- returns a list of numbers that represent the gene expression profile"
   ]
  },
  {
   "cell_type": "code",
   "execution_count": 5,
   "metadata": {},
   "outputs": [],
   "source": [
    "# TODO: initialize a sample object. Hint: The train and test sets are lists of Sample objects.\n",
    "\n",
    "# --- your code here ---\n"
   ]
  },
  {
   "cell_type": "code",
   "execution_count": 6,
   "metadata": {},
   "outputs": [],
   "source": [
    "# TODO: Print the following: What is the label of the Sample object you previously initialized? \n",
    "# How long is its gene expression profile? \n",
    "# What is the expression value of the first gene in the profile?  \n",
    "\n",
    "# --- your code here ---\n"
   ]
  },
  {
   "cell_type": "code",
   "execution_count": 7,
   "metadata": {},
   "outputs": [],
   "source": [
    "# TODO: how many different labels do we have in the train set? how about the test set? \n",
    "# how many samples have each of the labels?\n",
    "# can you figure out what label value corresponds to what tissue type?\n",
    "\n",
    "# --- your code here ---\n"
   ]
  },
  {
   "cell_type": "markdown",
   "metadata": {},
   "source": [
    "## Data Type Questions\n",
    "1. Similar to our first questions about Tita's bike, what kind of data are the labels?\n",
    "2. What kind of data are the gene profiles? \n",
    "3. What do the gene profiles describe?\n",
    "4. What is a way we use these gene profiles to predict the class label? "
   ]
  },
  {
   "cell_type": "markdown",
   "metadata": {},
   "source": [
    "### Answer:\n"
   ]
  },
  {
   "cell_type": "code",
   "execution_count": null,
   "metadata": {},
   "outputs": [],
   "source": []
  }
 ],
 "metadata": {
  "kernelspec": {
   "display_name": "Python 2",
   "language": "python",
   "name": "python2"
  },
  "language_info": {
   "codemirror_mode": {
    "name": "ipython",
    "version": 3
   },
   "file_extension": ".py",
   "mimetype": "text/x-python",
   "name": "python",
   "nbconvert_exporter": "python",
   "pygments_lexer": "ipython3",
   "version": "3.6.5"
  }
 },
 "nbformat": 4,
 "nbformat_minor": 1
}
